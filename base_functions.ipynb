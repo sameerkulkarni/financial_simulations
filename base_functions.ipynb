{
  "nbformat": 4,
  "nbformat_minor": 0,
  "metadata": {
    "colab": {
      "name": "Untitled0.ipynb",
      "provenance": [],
      "authorship_tag": "ABX9TyPRlwbzaMJwqMPpgdKh6zfw",
      "include_colab_link": true
    },
    "kernelspec": {
      "name": "python3",
      "display_name": "Python 3"
    }
  },
  "cells": [
    {
      "cell_type": "markdown",
      "metadata": {
        "id": "view-in-github",
        "colab_type": "text"
      },
      "source": [
        "<a href=\"https://colab.research.google.com/github/sameerkulkarni/financial_simulations/blob/master/base_functions.ipynb\" target=\"_parent\"><img src=\"https://colab.research.google.com/assets/colab-badge.svg\" alt=\"Open In Colab\"/></a>"
      ]
    },
    {
      "cell_type": "markdown",
      "metadata": {
        "id": "zHrGpPV43tRG",
        "colab_type": "text"
      },
      "source": [
        "**Financial Simulations**\n",
        "\n",
        "Measure different investment strategies"
      ]
    },
    {
      "cell_type": "code",
      "metadata": {
        "id": "zBCuNg7v4vQX",
        "colab_type": "code",
        "colab": {}
      },
      "source": [
        "import pandas as pd\n",
        "import matplotlib.pyplot as plt\n",
        "import numpy as np\n",
        "import random\n",
        "findata = pd.read_csv(\"https://raw.githubusercontent.com/sameerkulkarni/financial_simulations/master/returns.csv\", sep=\",\")"
      ],
      "execution_count": 0,
      "outputs": []
    },
    {
      "cell_type": "code",
      "metadata": {
        "id": "KWFSbMU_5Yi3",
        "colab_type": "code",
        "outputId": "ed0d29b6-263e-4c2e-8729-12eb62c94f32",
        "colab": {
          "base_uri": "https://localhost:8080/",
          "height": 153
        }
      },
      "source": [
        "print(findata.loc[2])"
      ],
      "execution_count": 0,
      "outputs": [
        {
          "output_type": "stream",
          "text": [
            "Date         1928-03-01\n",
            "Open               17.3\n",
            "High              19.28\n",
            "Low                17.3\n",
            "Close             19.28\n",
            "Adj Close         19.28\n",
            "Inflation         -1.16\n",
            "Name: 2, dtype: object\n"
          ],
          "name": "stdout"
        }
      ]
    },
    {
      "cell_type": "code",
      "metadata": {
        "id": "MxGsJfJR7fb_",
        "colab_type": "code",
        "colab": {}
      },
      "source": [
        "# Basic Strategy: Invest from the beginning to the end.\n",
        "def calculate_returns(startpoint, duration):\n",
        "  begin = findata.loc[startpoint]['Adj Close']\n",
        "  end = findata.loc[startpoint+(duration*12)]['Adj Close']\n",
        "  total_returns = 1+ ((end-begin)/begin)\n",
        "  avg_returns = (total_returns**(1.0/duration))\n",
        "  return avg_returns"
      ],
      "execution_count": 0,
      "outputs": []
    },
    {
      "cell_type": "code",
      "metadata": {
        "id": "nq_nJo5E7j0K",
        "colab_type": "code",
        "outputId": "39982c2f-2687-47e2-c196-72df9b83a8af",
        "colab": {
          "base_uri": "https://localhost:8080/",
          "height": 34
        }
      },
      "source": [
        "num_years=25\n",
        "num_samples=20000\n",
        "start_points=[random.randint(0,(92-num_years)*12) for i in range(num_samples)]\n",
        "yearly_returns = [calculate_returns(start_points[i],num_years) for i in range(len(start_points))]\n",
        "avg_of_avg_returns=np.average(yearly_returns)\n",
        "print(avg_of_avg_returns)"
      ],
      "execution_count": 0,
      "outputs": [
        {
          "output_type": "stream",
          "text": [
            "1.0706449340882223\n"
          ],
          "name": "stdout"
        }
      ]
    },
    {
      "cell_type": "code",
      "metadata": {
        "id": "hz3ny4Sn7uoV",
        "colab_type": "code",
        "outputId": "ce70a48b-79d9-4d2d-f55e-ccc63453120a",
        "colab": {
          "base_uri": "https://localhost:8080/",
          "height": 281
        }
      },
      "source": [
        "plt.hist(yearly_returns, bins=100)\n",
        "plt.title(\"S&P 500 Returns\")\n",
        "plt.axvline(avg_of_avg_returns,color='r')\n",
        "plt.show()"
      ],
      "execution_count": 0,
      "outputs": [
        {
          "output_type": "display_data",
          "data": {
            "image/png": "[encoded data removed]",
            "text/plain": [
              "<Figure size 432x288 with 1 Axes>"
            ]
          },
          "metadata": {
            "tags": []
          }
        }
      ]
    }
  ]
}