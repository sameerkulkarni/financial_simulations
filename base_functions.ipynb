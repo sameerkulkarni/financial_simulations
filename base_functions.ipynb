{
  "nbformat": 4,
  "nbformat_minor": 0,
  "metadata": {
    "colab": {
      "name": "Untitled0.ipynb",
      "provenance": [],
      "authorship_tag": "ABX9TyOYZiRjRh/vgqjWQraMAxw8",
      "include_colab_link": true
    },
    "kernelspec": {
      "name": "python3",
      "display_name": "Python 3"
    }
  },
  "cells": [
    {
      "cell_type": "markdown",
      "metadata": {
        "id": "view-in-github",
        "colab_type": "text"
      },
      "source": [
        "<a href=\"https://colab.research.google.com/github/sameerkulkarni/financial_simulations/blob/master/base_functions.ipynb\" target=\"_parent\"><img src=\"https://colab.research.google.com/assets/colab-badge.svg\" alt=\"Open In Colab\"/></a>"
      ]
    },
    {
      "cell_type": "markdown",
      "metadata": {
        "id": "zHrGpPV43tRG",
        "colab_type": "text"
      },
      "source": [
        "**Financial Simulations**\n",
        "\n",
        "Measure different investment strategies"
      ]
    },
    {
      "cell_type": "code",
      "metadata": {
        "id": "zBCuNg7v4vQX",
        "colab_type": "code",
        "colab": {}
      },
      "source": [
        "import pandas as pd\n",
        "import matplotlib.pyplot as plt\n",
        "import numpy as np\n",
        "import random\n",
        "findata = pd.read_csv(\"https://raw.githubusercontent.com/sameerkulkarni/financial_simulations/master/returns.csv\", sep=\",\")\n",
        "# Add data of monthly rate of change in adj close.\n",
        "findata['Scale'] = findata['Adj Close'].pct_change() +1\n",
        "# Adjust the scale to inflation every month.\n",
        "findata['Scale_InfAdj'] = findata['Scale'] - (findata['Inflation']/1200)\n",
        "findata = findata.drop(['Open', 'High', 'Low'], axis=1)\n",
        "fin_index = pd.Index(findata['Date'])"
      ],
      "execution_count": 0,
      "outputs": []
    },
    {
      "cell_type": "code",
      "metadata": {
        "id": "GIxGjhrLJC6Z",
        "colab_type": "code",
        "colab": {
          "base_uri": "https://localhost:8080/",
          "height": 266
        },
        "outputId": "df0045f8-cac2-4e43-ed62-8ad7151f2184"
      },
      "source": [
        "findata.loc[2:8]"
      ],
      "execution_count": 2,
      "outputs": [
        {
          "output_type": "execute_result",
          "data": {
            "text/html": [
              "<div>\n",
              "<style scoped>\n",
              "    .dataframe tbody tr th:only-of-type {\n",
              "        vertical-align: middle;\n",
              "    }\n",
              "\n",
              "    .dataframe tbody tr th {\n",
              "        vertical-align: top;\n",
              "    }\n",
              "\n",
              "    .dataframe thead th {\n",
              "        text-align: right;\n",
              "    }\n",
              "</style>\n",
              "<table border=\"1\" class=\"dataframe\">\n",
              "  <thead>\n",
              "    <tr style=\"text-align: right;\">\n",
              "      <th></th>\n",
              "      <th>Date</th>\n",
              "      <th>Close</th>\n",
              "      <th>Adj Close</th>\n",
              "      <th>Inflation</th>\n",
              "      <th>Scale</th>\n",
              "      <th>Scale_InfAdj</th>\n",
              "    </tr>\n",
              "  </thead>\n",
              "  <tbody>\n",
              "    <tr>\n",
              "      <th>2</th>\n",
              "      <td>1928-03-01</td>\n",
              "      <td>19.280001</td>\n",
              "      <td>19.280001</td>\n",
              "      <td>-1.16</td>\n",
              "      <td>1.117034</td>\n",
              "      <td>1.118000</td>\n",
              "    </tr>\n",
              "    <tr>\n",
              "      <th>3</th>\n",
              "      <td>1928-04-01</td>\n",
              "      <td>19.750000</td>\n",
              "      <td>19.750000</td>\n",
              "      <td>-1.16</td>\n",
              "      <td>1.024378</td>\n",
              "      <td>1.025344</td>\n",
              "    </tr>\n",
              "    <tr>\n",
              "      <th>4</th>\n",
              "      <td>1928-05-01</td>\n",
              "      <td>20.000000</td>\n",
              "      <td>20.000000</td>\n",
              "      <td>-1.15</td>\n",
              "      <td>1.012658</td>\n",
              "      <td>1.013617</td>\n",
              "    </tr>\n",
              "    <tr>\n",
              "      <th>5</th>\n",
              "      <td>1928-06-01</td>\n",
              "      <td>19.139999</td>\n",
              "      <td>19.139999</td>\n",
              "      <td>-2.84</td>\n",
              "      <td>0.957000</td>\n",
              "      <td>0.959367</td>\n",
              "    </tr>\n",
              "    <tr>\n",
              "      <th>6</th>\n",
              "      <td>1928-07-01</td>\n",
              "      <td>19.430000</td>\n",
              "      <td>19.430000</td>\n",
              "      <td>-1.16</td>\n",
              "      <td>1.015152</td>\n",
              "      <td>1.016118</td>\n",
              "    </tr>\n",
              "    <tr>\n",
              "      <th>7</th>\n",
              "      <td>1928-08-01</td>\n",
              "      <td>20.870001</td>\n",
              "      <td>20.870001</td>\n",
              "      <td>-0.58</td>\n",
              "      <td>1.074112</td>\n",
              "      <td>1.074596</td>\n",
              "    </tr>\n",
              "    <tr>\n",
              "      <th>8</th>\n",
              "      <td>1928-09-01</td>\n",
              "      <td>21.139999</td>\n",
              "      <td>21.139999</td>\n",
              "      <td>0.00</td>\n",
              "      <td>1.012937</td>\n",
              "      <td>1.012937</td>\n",
              "    </tr>\n",
              "  </tbody>\n",
              "</table>\n",
              "</div>"
            ],
            "text/plain": [
              "         Date      Close  Adj Close  Inflation     Scale  Scale_InfAdj\n",
              "2  1928-03-01  19.280001  19.280001      -1.16  1.117034      1.118000\n",
              "3  1928-04-01  19.750000  19.750000      -1.16  1.024378      1.025344\n",
              "4  1928-05-01  20.000000  20.000000      -1.15  1.012658      1.013617\n",
              "5  1928-06-01  19.139999  19.139999      -2.84  0.957000      0.959367\n",
              "6  1928-07-01  19.430000  19.430000      -1.16  1.015152      1.016118\n",
              "7  1928-08-01  20.870001  20.870001      -0.58  1.074112      1.074596\n",
              "8  1928-09-01  21.139999  21.139999       0.00  1.012937      1.012937"
            ]
          },
          "metadata": {
            "tags": []
          },
          "execution_count": 2
        }
      ]
    },
    {
      "cell_type": "markdown",
      "metadata": {
        "id": "8MBqDLwaJLiy",
        "colab_type": "text"
      },
      "source": [
        "**One shot investment strategies**\n",
        "\n",
        "The strategies below mimic the one time investments. e.g. If you have a pot of money that you need to invest into the market."
      ]
    },
    {
      "cell_type": "code",
      "metadata": {
        "id": "MxGsJfJR7fb_",
        "colab_type": "code",
        "colab": {}
      },
      "source": [
        "# Basic Strategy: Invest once; for the entire duration.\n",
        "def calculate_returns(startpoint, duration):\n",
        "  begin = findata.loc[startpoint]['Adj Close']\n",
        "  end = findata.loc[startpoint+(duration*12)]['Adj Close']\n",
        "  total_returns = 1+ ((end-begin)/begin)\n",
        "  avg_returns = (total_returns**(1.0/duration))\n",
        "  return avg_returns\n",
        "\n",
        "# Secondary strategy: If the intended retirement would cause an average return\n",
        "#   of less than expected_returns, then wait a max of extended_duration years\n",
        "#   and retire as soon as it reaches expected_returns. If waiting does not reach\n",
        "#   expected returns, retire at the end of the extended_duration.\n",
        "def flexible_end_date(startpoint, duration, extended_duration=2, expected_returns=1.065):\n",
        "  begin = findata.loc[startpoint]['Adj Close']\n",
        "  intended_end_month= startpoint+(duration*12)\n",
        "  end = findata.loc[intended_end_month]['Adj Close']\n",
        "  total_returns = 1+ ((end-begin)/begin)\n",
        "  avg_returns = (total_returns**(1.0/duration))\n",
        "  # print(\"%2d, %2d, %3.3f, %3.3f, %1.3f, %1.3f\" %(startpoint, intended_end_month, begin, end, total_returns, avg_returns))\n",
        "  if (avg_returns > expected_returns):\n",
        "    return avg_returns\n",
        "  for i in range(intended_end_month,intended_end_month+(extended_duration*12)):\n",
        "    end = findata.loc[i]['Adj Close']\n",
        "    total_returns= 1+ ((end-begin)/begin)\n",
        "    avg_returns = (total_returns**(1.0/((i-startpoint)/12)))\n",
        "    # print(\"%2d, %2d, %3.3f, %3.3f, %1.3f, %1.3f\" %(startpoint, i, begin, end, total_returns, avg_returns))\n",
        "    if avg_returns >= expected_returns:\n",
        "      return avg_returns\n",
        "  return avg_returns\n",
        "\n",
        "# Capped Gains Strategy: Here your returns are capped between [0,9] on a yearly \n",
        "# basis.\n",
        "def capped_gains_strategy(startpoint, duration):\n",
        "  returns=[]\n",
        "  for i in range(0,duration):\n",
        "    start_month=startpoint +(i*12)\n",
        "    end_month=startpoint +((i+1)*12)\n",
        "    begin = findata.loc[start_month]['Adj Close']\n",
        "    end = findata.loc[end_month]['Adj Close']\n",
        "    yearly_return = 1+ ((end-begin)/begin)\n",
        "    if yearly_return < 1:\n",
        "      yearly_return = 1\n",
        "    if yearly_return > 1.095:\n",
        "      yearly_return = 1.095\n",
        "    returns.append(yearly_return)\n",
        "  # print(returns)\n",
        "  avg_returns = np.average(returns)\n",
        "  return avg_returns"
      ],
      "execution_count": 0,
      "outputs": []
    },
    {
      "cell_type": "code",
      "metadata": {
        "id": "nq_nJo5E7j0K",
        "colab_type": "code",
        "colab": {
          "base_uri": "https://localhost:8080/",
          "height": 298
        },
        "outputId": "679f9c48-1e78-4b1d-9fcd-8c601b87da00"
      },
      "source": [
        "num_years = 25 #@param {type:\"slider\", min:1, max:60, step:1.0}\n",
        "num_samples=20000\n",
        "start_points=[random.randint(0,(92-num_years)*12) for i in range(num_samples)]\n",
        "yearly_returns = [calculate_returns(start_points[i],num_years) for i in range(len(start_points))]\n",
        "avg2_returns=np.average(yearly_returns)\n",
        "print(avg2_returns)\n",
        "plt.hist(yearly_returns, bins=100)\n",
        "plt.title(\"S&P 500 Returns for %d years (%1.3f).\"%(num_years,avg2_returns))\n",
        "plt.axvline(avg2_returns,color='r')\n",
        "plt.show()"
      ],
      "execution_count": 39,
      "outputs": [
        {
          "output_type": "stream",
          "text": [
            "1.0706383718281038\n"
          ],
          "name": "stdout"
        },
        {
          "output_type": "display_data",
          "data": {
            "image/png": "[encoded data removed]",
            "text/plain": [
              "<Figure size 432x288 with 1 Axes>"
            ]
          },
          "metadata": {
            "tags": []
          }
        }
      ]
    },
    {
      "cell_type": "code",
      "metadata": {
        "id": "P6ySRVnOKhll",
        "colab_type": "code",
        "colab": {
          "base_uri": "https://localhost:8080/",
          "height": 298
        },
        "outputId": "558a91ef-fa5a-433f-8e7a-9aa87e96fda6"
      },
      "source": [
        "num_years = 13 #@param {type:\"slider\", min:1, max:60, step:1.0}\n",
        "flexible_years = 3 #@param {type:\"slider\", min:0, max:15, step:1.0}\n",
        "num_samples=20000\n",
        "start_points=[random.randint(0,(92-(num_years+flexible_years))*12) for i in range(num_samples)]\n",
        "yearly_returns = [flexible_end_date(start_points[i],num_years,flexible_years) for i in range(len(start_points))]\n",
        "avg2_returns=np.average(yearly_returns)\n",
        "print(avg2_returns)\n",
        "plt.hist(yearly_returns, bins=100)\n",
        "plt.title(\"S&P 500 Returns for %d years (%1.3f).\"%(num_years,avg2_returns))\n",
        "plt.axvline(avg2_returns,color='r')\n",
        "plt.show()"
      ],
      "execution_count": 55,
      "outputs": [
        {
          "output_type": "stream",
          "text": [
            "1.0725421867797778\n"
          ],
          "name": "stdout"
        },
        {
          "output_type": "display_data",
          "data": {
            "image/png": "[encoded data removed]",
            "text/plain": [
              "<Figure size 432x288 with 1 Axes>"
            ]
          },
          "metadata": {
            "tags": []
          }
        }
      ]
    },
    {
      "cell_type": "code",
      "metadata": {
        "id": "wZ3I-Hd0PfrY",
        "colab_type": "code",
        "colab": {}
      },
      "source": [
        ""
      ],
      "execution_count": 0,
      "outputs": []
    },
    {
      "cell_type": "code",
      "metadata": {
        "id": "dSZibyXcRI_V",
        "colab_type": "code",
        "colab": {
          "base_uri": "https://localhost:8080/",
          "height": 298
        },
        "outputId": "d89e33d8-f3e1-4fe4-f11e-d5b9b1b0952b"
      },
      "source": [
        "num_years = 15 #@param {type:\"slider\", min:1, max:60, step:1.0}\n",
        "num_samples=20000\n",
        "start_points=[random.randint(0,(92-num_years)*12) for i in range(num_samples)]\n",
        "yearly_returns = [capped_gains_strategy(start_points[i],num_years) for i in range(len(start_points))]\n",
        "avg2_returns=np.average(yearly_returns)\n",
        "print(avg2_returns)\n",
        "plt.hist(yearly_returns, bins=100)\n",
        "plt.title(\"S&P 500 Returns for %d years (%1.3f).\"%(num_years,avg2_returns))\n",
        "plt.axvline(avg2_returns,color='r')\n",
        "plt.show()"
      ],
      "execution_count": 70,
      "outputs": [
        {
          "output_type": "stream",
          "text": [
            "1.0569217215049753\n"
          ],
          "name": "stdout"
        },
        {
          "output_type": "display_data",
          "data": {
            "image/png": "[encoded data removed]",
            "text/plain": [
              "<Figure size 432x288 with 1 Axes>"
            ]
          },
          "metadata": {
            "tags": []
          }
        }
      ]
    },
    {
      "cell_type": "code",
      "metadata": {
        "id": "YBSLTSrCZ3pg",
        "colab_type": "code",
        "colab": {}
      },
      "source": [
        "def current_return(month, investment_type=0):\n",
        "  #  investment_type: 0=s&p500, 1=capped_s&p500, 2=bank, 3=bonds(tbd)\n",
        "  if investment_type == 1:\n",
        "    return max(1, min((1+(.09/12)), findata.loc[month]['Scale_InfAdj']))\n",
        "  if investment_type == 2:\n",
        "    return (1.0 - (findata.loc[month]['Inflation']/1200))\n",
        "  return findata.loc[month]['Scale_InfAdj']\n",
        "\n",
        "# Regular investment\n",
        "def future_value(initial_amount, investment_amount, num_months, start_month, investment_type=0):\n",
        "  #  initial_amount: Initial amount to start the investment with.\n",
        "  #  investment_amount: Amount to be invested every month.\n",
        "  #  num_months: Number of months to invest.\n",
        "  #  start_month: When do you start investing the money.\n",
        "  #  investment_type: 0=s&p500, 1=capped_s&p500, 2=bank, 3=bonds(tbd)\n",
        "  current_amount=initial_amount\n",
        "  for i in range(start_month, (start_month+num_months)):\n",
        "    current_amount+=investment_amount\n",
        "    current_amount*=current_return(i, investment_type)\n",
        "  return current_amount\n",
        "\n",
        "def weighted_return(initial_rampup_duration, initial_amount, total_duration, trickle_invest, start_month, investment_type=0):\n",
        "  # initial_rampup_horizon: Number of months to split the initital investment time.\n",
        "  # initial_amount: Total amount in units to be invested initially.\n",
        "  # total_horizon: Total investment horizon.\n",
        "  # trickle_invest: \n",
        "  investment_during_rampup = (initial_amount/initial_rampup_duration)+trickle_invest\n",
        "  amount_after_initial_rampup=future_value(0,investment_during_rampup,initial_rampup_duration,start_month, investment_type)\n",
        "  final_amount=future_value(amount_after_initial_rampup, trickle_invest, total_duration-initial_rampup_duration, start_month+initial_rampup_duration, investment_type)\n",
        "  return final_amount"
      ],
      "execution_count": 0,
      "outputs": []
    },
    {
      "cell_type": "markdown",
      "metadata": {
        "id": "W7E8uHxkiGVV",
        "colab_type": "text"
      },
      "source": [
        "**Simulation Start Investing**\n",
        "\n",
        "Here the person would have X dollars to invest at present, and would add some small amount every month for the given number of months.\n",
        "\n"
      ]
    },
    {
      "cell_type": "code",
      "metadata": {
        "id": "8As0mlvJU48B",
        "colab_type": "code",
        "colab": {
          "base_uri": "https://localhost:8080/",
          "height": 298
        },
        "outputId": "7849f092-21a3-420f-aaed-25976c61614a"
      },
      "source": [
        "num_years = 20 #@param {type:\"slider\", min:1, max:60, step:1.0}\n",
        "num_samples=1000\n",
        "initial_rampup_months=6 #@param {type:\"slider\", min:1, max:60, step:1.0}\n",
        "initial_amount=100 #@param {type:\"slider\", min:10, max:200, step:1.0}\n",
        "trickle_invest=4 #@param {type:\"slider\", min:1, max:100, step:1.0}\n",
        "start_points=[random.randint(1,(92-num_years)*12) for i in range(num_samples)]\n",
        "final_networths = [weighted_return(initial_rampup_months, initial_amount, (num_years*12), trickle_invest, start_points[i],investment_type=0) for i in range(len(start_points))]\n",
        "avg_nw=np.average(final_networths)\n",
        "print(avg_nw)\n",
        "plt.hist(final_networths, bins=100)\n",
        "plt.title(\"Networths for %d years (%1.3f).\"%(num_years,avg_nw))\n",
        "plt.axvline(avg_nw,color='r')\n",
        "plt.show()"
      ],
      "execution_count": 37,
      "outputs": [
        {
          "output_type": "stream",
          "text": [
            "1689.8571039602473\n"
          ],
          "name": "stdout"
        },
        {
          "output_type": "display_data",
          "data": {
            "image/png": "[encoded data removed]",
            "text/plain": [
              "<Figure size 432x288 with 1 Axes>"
            ]
          },
          "metadata": {
            "tags": []
          }
        }
      ]
    },
    {
      "cell_type": "code",
      "metadata": {
        "id": "qWWZMq8MlQiF",
        "colab_type": "code",
        "colab": {
          "base_uri": "https://localhost:8080/",
          "height": 298
        },
        "outputId": "a6ac2877-a682-45fd-f1f7-b013ac9868dc"
      },
      "source": [
        "num_years = 15 #@param {type:\"slider\", min:1, max:60, step:1.0}\n",
        "num_samples=10000\n",
        "initial_rampup_months=6 #@param {type:\"slider\", min:1, max:60, step:1.0}\n",
        "initial_amount=100 #@param {type:\"slider\", min:10, max:200, step:1.0}\n",
        "trickle_invest=4 #@param {type:\"slider\", min:1, max:100, step:1.0}\n",
        "start_points=[random.randint(1,(92-num_years)*12) for i in range(num_samples)]\n",
        "final_networths = [weighted_return(initial_rampup_months, initial_amount, (num_years*12), trickle_invest, start_points[i]) for i in range(len(start_points))]\n",
        "avg_nw=np.average(final_networths)\n",
        "print(avg_nw)\n",
        "plt.hist(final_networths, bins=100)\n",
        "plt.title(\"Insu Networths for %d years (%1.3f).\"%(num_years,avg_nw))\n",
        "plt.axvline(avg_nw,color='r')\n",
        "plt.show()"
      ],
      "execution_count": 27,
      "outputs": [
        {
          "output_type": "stream",
          "text": [
            "1253.9324809270963\n"
          ],
          "name": "stdout"
        },
        {
          "output_type": "display_data",
          "data": {
            "image/png": "[encoded data removed]",
            "text/plain": [
              "<Figure size 432x288 with 1 Axes>"
            ]
          },
          "metadata": {
            "tags": []
          }
        }
      ]
    },
    {
      "cell_type": "code",
      "metadata": {
        "id": "vF4JygR0RosT",
        "colab_type": "code",
        "colab": {
          "base_uri": "https://localhost:8080/",
          "height": 34
        },
        "outputId": "a7d04577-5845-40cb-992c-2c1f5fb176d8"
      },
      "source": [
        "#  Bear Markets finder (more than 20% drop from the previous high)\n",
        "#  https://www.investopedia.com/terms/b/bearmarket.asp\n",
        "#  Top 11 Bear market dates = http://www.nbcnews.com/id/37740147/ns/business-stocks_and_economy/t/historic-bear-markets/#.XoCWDzdKh24\n",
        "\n",
        "bear_market_dates=['1929-09-01', '1946-05-01', '1961-12-01', '1968-11-01', '1973-01-01', '1980-11-01', '1987-08-01', '2000-03-01', '2007-10-01']\n",
        "bear_market_months=[fin_index.get_loc(bear_date) for bear_date in bear_market_dates]\n",
        "print(bear_market_months)"
      ],
      "execution_count": 4,
      "outputs": [
        {
          "output_type": "stream",
          "text": [
            "[20, 220, 407, 490, 540, 634, 715, 866, 957]\n"
          ],
          "name": "stdout"
        }
      ]
    },
    {
      "cell_type": "code",
      "metadata": {
        "id": "ZuDgKPRc438G",
        "colab_type": "code",
        "colab": {
          "base_uri": "https://localhost:8080/",
          "height": 105
        },
        "outputId": "0886d300-00dd-4271-8a95-78a178ef2eba"
      },
      "source": [
        "num_years = 16 #@param {type:\"slider\", min:1, max:60, step:1.0}\n",
        "initial_rampup_months=4 #@param {type:\"slider\", min:1, max:60, step:1.0}\n",
        "initial_amount=100 #@param {type:\"slider\", min:10, max:200, step:1.0}\n",
        "trickle_invest=4 #@param {type:\"slider\", min:1, max:100, step:1.0}\n",
        "month_offset=-1\n",
        "start_points=[month+month_offset for month in bear_market_months[:8]]\n",
        "print(start_points)\n",
        "\n",
        "#  investment_type: 0=s&p500, 1=capped_s&p500, 2=bank, 3=bonds(tbd)\n",
        "for toi in [0,1,2]:\n",
        "  tinvest = trickle_invest\n",
        "  if toi == 1:\n",
        "    tinvest-=1\n",
        "  final_networths = [weighted_return(initial_rampup_months, initial_amount, (num_years*12), tinvest, start_points[i], toi) for i in range(len(start_points))]\n",
        "  # final_networths = np.sort(final_networths)\n",
        "  avg_nw=np.average(final_networths)\n",
        "  med_nw=np.median(final_networths)\n",
        "  print(toi, avg_nw, med_nw, final_networths)\n"
      ],
      "execution_count": 17,
      "outputs": [
        {
          "output_type": "stream",
          "text": [
            "[19, 219, 406, 489, 539, 633, 714, 865]\n",
            "0 1166.6052938820776 1099.8615653926404 [877.3053398632773, 1876.1733826740108, 574.7691209891454, 728.7899483722488, 1098.2769858260012, 1803.490624515018, 1272.5908038576388, 1101.4461449592798]\n",
            "1 1062.450461622364 1077.4632927015982 [1056.0735378731868, 1098.8530475300097, 981.2535864258048, 992.9174516352301, 1035.7625446965653, 1132.555825308484, 1100.7923255739763, 1101.3953739356552]\n",
            "2 634.8063713552949 662.5546898351404 [729.4725254596896, 723.2503622120511, 541.281740486041, 479.0756780765288, 547.3397194008145, 638.561324743615, 686.5480549266657, 732.9215655369535]\n"
          ],
          "name": "stdout"
        }
      ]
    }
  ]
}