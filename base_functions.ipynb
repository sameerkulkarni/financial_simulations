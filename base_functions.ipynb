{
  "nbformat": 4,
  "nbformat_minor": 0,
  "metadata": {
    "colab": {
      "name": "Untitled0.ipynb",
      "provenance": [],
      "authorship_tag": "ABX9TyO+aJy4OBcFiV1U+pKOS8ED",
      "include_colab_link": true
    },
    "kernelspec": {
      "name": "python3",
      "display_name": "Python 3"
    }
  },
  "cells": [
    {
      "cell_type": "markdown",
      "metadata": {
        "id": "view-in-github",
        "colab_type": "text"
      },
      "source": [
        "<a href=\"https://colab.research.google.com/github/sameerkulkarni/financial_simulations/blob/master/base_functions.ipynb\" target=\"_parent\"><img src=\"https://colab.research.google.com/assets/colab-badge.svg\" alt=\"Open In Colab\"/></a>"
      ]
    },
    {
      "cell_type": "markdown",
      "metadata": {
        "id": "zHrGpPV43tRG",
        "colab_type": "text"
      },
      "source": [
        "**Financial Simulations**\n",
        "\n",
        "Measure different investment strategies"
      ]
    },
    {
      "cell_type": "code",
      "metadata": {
        "id": "zBCuNg7v4vQX",
        "colab_type": "code",
        "colab": {}
      },
      "source": [
        "import pandas as pd\n",
        "import matplotlib.pyplot as plt\n",
        "import numpy as np\n",
        "import random\n",
        "findata = pd.read_csv(\"https://raw.githubusercontent.com/sameerkulkarni/financial_simulations/master/returns.csv\", sep=\",\")"
      ],
      "execution_count": 0,
      "outputs": []
    },
    {
      "cell_type": "code",
      "metadata": {
        "id": "KWFSbMU_5Yi3",
        "colab_type": "code",
        "colab": {
          "base_uri": "https://localhost:8080/",
          "height": 153
        },
        "outputId": "ed0d29b6-263e-4c2e-8729-12eb62c94f32"
      },
      "source": [
        "print(findata.loc[2])"
      ],
      "execution_count": 8,
      "outputs": [
        {
          "output_type": "stream",
          "text": [
            "Date         1928-03-01\n",
            "Open               17.3\n",
            "High              19.28\n",
            "Low                17.3\n",
            "Close             19.28\n",
            "Adj Close         19.28\n",
            "Inflation         -1.16\n",
            "Name: 2, dtype: object\n"
          ],
          "name": "stdout"
        }
      ]
    },
    {
      "cell_type": "code",
      "metadata": {
        "id": "MxGsJfJR7fb_",
        "colab_type": "code",
        "colab": {}
      },
      "source": [
        "# Basic Strategy: Invest from the beginning to the end.\n",
        "def calculate_returns(startpoint, duration):\n",
        "  begin = findata.loc[startpoint]['Adj Close']\n",
        "  end = findata.loc[startpoint+(duration*12)]['Adj Close']\n",
        "  total_returns = 1+ ((end-begin)/begin)\n",
        "  avg_returns = (total_returns**(1.0/duration))\n",
        "  return avg_returns"
      ],
      "execution_count": 0,
      "outputs": []
    },
    {
      "cell_type": "code",
      "metadata": {
        "id": "UhaACKvWChO1",
        "colab_type": "code",
        "colab": {}
      },
      "source": [
        "# Secondary strategy: If the intended retirement would cause an average return\n",
        "#   of less than expected_returns, then wait a max of extended_duration years\n",
        "#   and retire as soon as it reaches expected_returns. If waiting does not reach\n",
        "#   expected returns, retire at the end of the extended_duration.\n",
        "def flexible_returns(startpoint, duration, extended_duration=2, expected_returns=1.065):\n",
        "  begin = findata.loc[startpoint]['Adj Close']\n",
        "  intended_end_month= startpoint+(duration*12)\n",
        "  end = findata.loc[intended_end_month]['Adj Close']\n",
        "  total_returns = 1+ ((end-begin)/begin)\n",
        "  avg_returns = (total_returns**(1.0/duration))\n",
        "  # print(\"%2d, %2d, %3.3f, %3.3f, %1.3f, %1.3f\" %(startpoint, intended_end_month, begin, end, total_returns, avg_returns))\n",
        "  if (avg_returns > expected_returns):\n",
        "    return avg_returns\n",
        "  for i in range(intended_end_month,intended_end_month+(extended_duration*12)):\n",
        "    end = findata.loc[i]['Adj Close']\n",
        "    total_returns= 1+ ((end-begin)/begin)\n",
        "    avg_returns = (total_returns**(1.0/((i-startpoint)/12)))\n",
        "    # print(\"%2d, %2d, %3.3f, %3.3f, %1.3f, %1.3f\" %(startpoint, i, begin, end, total_returns, avg_returns))\n",
        "    if avg_returns >= expected_returns:\n",
        "      return avg_returns\n",
        "  return avg_returns"
      ],
      "execution_count": 0,
      "outputs": []
    },
    {
      "cell_type": "code",
      "metadata": {
        "id": "nq_nJo5E7j0K",
        "colab_type": "code",
        "colab": {
          "base_uri": "https://localhost:8080/",
          "height": 298
        },
        "outputId": "3b42df8d-c634-4334-c64b-c80681a0f0e9"
      },
      "source": [
        "num_years = 15 #@param {type:\"slider\", min:1, max:60, step:1.0}\n",
        "flexible_years = 4 #@param {type:\"slider\", min:0, max:15, step:1.0}\n",
        "num_samples=20000\n",
        "start_points=[random.randint(0,(92-(num_years+flexible_years))*12) for i in range(num_samples)]\n",
        "yearly_returns = [calculate_returns(start_points[i],num_years) for i in range(len(start_points))]\n",
        "avg2_returns=np.average(yearly_returns)\n",
        "print(avg2_returns)\n",
        "plt.hist(yearly_returns, bins=100)\n",
        "plt.title(\"S&P 500 Returns for %d years (%1.3f).\"%(num_years,avg2_returns))\n",
        "plt.axvline(avg2_returns,color='r')\n",
        "plt.show()"
      ],
      "execution_count": 54,
      "outputs": [
        {
          "output_type": "stream",
          "text": [
            "1.0663716661984473\n"
          ],
          "name": "stdout"
        },
        {
          "output_type": "display_data",
          "data": {
            "image/png": "[encoded data removed]",
            "text/plain": [
              "<Figure size 432x288 with 1 Axes>"
            ]
          },
          "metadata": {
            "tags": []
          }
        }
      ]
    },
    {
      "cell_type": "code",
      "metadata": {
        "id": "P6ySRVnOKhll",
        "colab_type": "code",
        "colab": {
          "base_uri": "https://localhost:8080/",
          "height": 298
        },
        "outputId": "558a91ef-fa5a-433f-8e7a-9aa87e96fda6"
      },
      "source": [
        "num_years = 13 #@param {type:\"slider\", min:1, max:60, step:1.0}\n",
        "flexible_years = 3 #@param {type:\"slider\", min:0, max:15, step:1.0}\n",
        "num_samples=20000\n",
        "start_points=[random.randint(0,(92-(num_years+flexible_years))*12) for i in range(num_samples)]\n",
        "yearly_returns = [flexible_returns(start_points[i],num_years,flexible_years) for i in range(len(start_points))]\n",
        "avg2_returns=np.average(yearly_returns)\n",
        "print(avg2_returns)\n",
        "plt.hist(yearly_returns, bins=100)\n",
        "plt.title(\"S&P 500 Returns for %d years (%1.3f).\"%(num_years,avg2_returns))\n",
        "plt.axvline(avg2_returns,color='r')\n",
        "plt.show()"
      ],
      "execution_count": 55,
      "outputs": [
        {
          "output_type": "stream",
          "text": [
            "1.0725421867797778\n"
          ],
          "name": "stdout"
        },
        {
          "output_type": "display_data",
          "data": {
            "image/png": "[encoded data removed]",
            "text/plain": [
              "<Figure size 432x288 with 1 Axes>"
            ]
          },
          "metadata": {
            "tags": []
          }
        }
      ]
    }
  ]
}