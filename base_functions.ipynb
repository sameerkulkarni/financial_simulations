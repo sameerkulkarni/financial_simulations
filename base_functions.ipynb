{
  "nbformat": 4,
  "nbformat_minor": 0,
  "metadata": {
    "colab": {
      "name": "Untitled0.ipynb",
      "provenance": [],
      "authorship_tag": "ABX9TyMjzayr3y8VRAA1g/9KSbjY",
      "include_colab_link": true
    },
    "kernelspec": {
      "name": "python3",
      "display_name": "Python 3"
    }
  },
  "cells": [
    {
      "cell_type": "markdown",
      "metadata": {
        "id": "view-in-github",
        "colab_type": "text"
      },
      "source": [
        "<a href=\"https://colab.research.google.com/github/sameerkulkarni/financial_simulations/blob/master/base_functions.ipynb\" target=\"_parent\"><img src=\"https://colab.research.google.com/assets/colab-badge.svg\" alt=\"Open In Colab\"/></a>"
      ]
    },
    {
      "cell_type": "markdown",
      "metadata": {
        "id": "zHrGpPV43tRG",
        "colab_type": "text"
      },
      "source": [
        "# Financial Simulations\n",
        "\n",
        "Measure different investment strategies"
      ]
    },
    {
      "cell_type": "markdown",
      "metadata": {
        "id": "vHoqGTQGNVdo",
        "colab_type": "text"
      },
      "source": [
        "## Helper Functions\n",
        "Run me before running any of the lower cells."
      ]
    },
    {
      "cell_type": "code",
      "metadata": {
        "id": "zBCuNg7v4vQX",
        "colab_type": "code",
        "colab": {}
      },
      "source": [
        "import pandas as pd\n",
        "import matplotlib.pyplot as plt\n",
        "import numpy as np\n",
        "import random\n",
        "findata = pd.read_csv(\"https://raw.githubusercontent.com/sameerkulkarni/financial_simulations/master/returns.csv\", sep=\",\")\n",
        "# Add data of monthly rate of change in adj close.\n",
        "findata['Scale'] = findata['Adj Close'].pct_change() +1\n",
        "# Adjust the scale to inflation every month.\n",
        "findata['Scale_InfAdj'] = findata['Scale'] - (findata['Inflation']/1200)\n",
        "findata = findata.drop(['Open', 'High', 'Low'], axis=1)\n",
        "fin_index = pd.Index(findata['Date'])\n",
        "\n",
        "# Number of times to run any of the simulations below\n",
        "NUM_SAMPLES=10000\n",
        "\n",
        "def pretty_plot_fn(distribution, heighlight_value, message):\n",
        "  plt.hist(distribution, bins=100)\n",
        "  plt.title(message)\n",
        "  plt.axvline(heighlight_value,color='r')\n",
        "  plt.show()\n",
        "\n",
        "# The three functions below calucate the rate of returs given a start point and \n",
        "# a duration. e.g. A value of 1.07 would mean a 7% average return on investment\n",
        "# annually over the investment period.\n",
        "\n",
        "# 1. Basic Strategy: Invest once; for the entire duration.\n",
        "def calculate_returns(startpoint, duration):\n",
        "  begin = findata.loc[startpoint]['Adj Close']\n",
        "  end = findata.loc[startpoint+(duration*12)]['Adj Close']\n",
        "  total_returns = 1+ ((end-begin)/begin)\n",
        "  avg_returns = (total_returns**(1.0/duration))\n",
        "  return avg_returns\n",
        "\n",
        "# 2. Secondary strategy: If the intended retirement would cause an average\n",
        "#    return of less than expected_returns, then wait a max of extended_duration\n",
        "#    years and retire as soon as it reaches expected_returns. If waiting does\n",
        "#    not reachexpected returns, retire at the end of the extended_duration.\n",
        "def flexible_end_date(startpoint, duration, extended_duration=2, expected_returns=1.065):\n",
        "  begin = findata.loc[startpoint]['Adj Close']\n",
        "  intended_end_month= startpoint+(duration*12)\n",
        "  end = findata.loc[intended_end_month]['Adj Close']\n",
        "  total_returns = 1+ ((end-begin)/begin)\n",
        "  avg_returns = (total_returns**(1.0/duration))\n",
        "  # print(\"%2d, %2d, %3.3f, %3.3f, %1.3f, %1.3f\" %(startpoint, intended_end_month, begin, end, total_returns, avg_returns))\n",
        "  if (avg_returns > expected_returns):\n",
        "    return avg_returns\n",
        "  for i in range(intended_end_month,intended_end_month+(extended_duration*12)):\n",
        "    end = findata.loc[i]['Adj Close']\n",
        "    total_returns= 1+ ((end-begin)/begin)\n",
        "    avg_returns = (total_returns**(1.0/((i-startpoint)/12)))\n",
        "    # print(\"%2d, %2d, %3.3f, %3.3f, %1.3f, %1.3f\" %(startpoint, i, begin, end, total_returns, avg_returns))\n",
        "    if avg_returns >= expected_returns:\n",
        "      return avg_returns\n",
        "  return avg_returns\n",
        "\n",
        "# 3. Capped Gains Strategy: Here your returns are capped between [0,9] on a yearly \n",
        "#    basis. Note that this is an extremely uncommon investment vehicle, and \n",
        "#    there is a high chance that this is something you would not want to pick\n",
        "#    if at all available.\n",
        "def capped_gains_strategy(startpoint, duration):\n",
        "  returns=[]\n",
        "  for i in range(0,duration):\n",
        "    start_month=startpoint +(i*12)\n",
        "    end_month=startpoint +((i+1)*12)\n",
        "    begin = findata.loc[start_month]['Adj Close']\n",
        "    end = findata.loc[end_month]['Adj Close']\n",
        "    yearly_return = 1+ ((end-begin)/begin)\n",
        "    if yearly_return < 1:\n",
        "      yearly_return = 1\n",
        "    if yearly_return > 1.095:\n",
        "      yearly_return = 1.095\n",
        "    returns.append(yearly_return)\n",
        "  # print(returns)\n",
        "  avg_returns = np.average(returns)\n",
        "  return avg_returns\n",
        "\n",
        "# The next three functions also take into account inflation for each of the\n",
        "# months that we are taking the returns into account. In months of large market\n",
        "# fluctuations, inflation also changes, this would allow one to take into \n",
        "# account real investment returns for those months. e.g. if the market drops\n",
        "# a lot, hypothesis is that that consumer goods would also see a significant \n",
        "# drop. It would be very useful to take this into account.\n",
        "def current_return(month, investment_type=\"snp500\"):\n",
        "  #  investment_type: 0=s&p500, 1=capped_s&p500, 2=bank, 3=bonds(tbd)\n",
        "  if investment_type == \"capped_snp500\":\n",
        "    return max(1, min((1+(.09/12)), findata.loc[month]['Scale_InfAdj']))\n",
        "  if investment_type == \"savings_account\":\n",
        "    return (1.0 - (findata.loc[month]['Inflation']/1200))\n",
        "  if investment_type == \"bonds\":\n",
        "    # If invested in a bond, assume that you are unaffected by inflation.\n",
        "    return 1.0\n",
        "  if investment_type == \"snp500\":\n",
        "    return findata.loc[month]['Scale_InfAdj']\n",
        "  # Default case is if investing in an s&p 500.  \n",
        "  return findata.loc[month]['Scale_InfAdj']\n",
        "\n",
        "# Regular investment\n",
        "def future_value(initial_amount, investment_amount, num_months, start_month, investment_type=0):\n",
        "  #  initial_amount: Initial amount to start the investment with.\n",
        "  #  investment_amount: Amount to be invested every month.\n",
        "  #  num_months: Number of months to invest.\n",
        "  #  start_month: When do you start investing the money.\n",
        "  #  investment_type: 0=s&p500, 1=capped_s&p500, 2=bank, 3=bonds(tbd)\n",
        "  current_amount=initial_amount\n",
        "  for i in range(start_month, (start_month+num_months)):\n",
        "    current_amount+=investment_amount\n",
        "    current_amount*=current_return(i, investment_type)\n",
        "  return current_amount\n",
        "\n",
        "def weighted_return(initial_rampup_duration, initial_amount, total_duration, trickle_invest, start_month, investment_type=0):\n",
        "  # initial_rampup_horizon: Number of months to split the initital investment time.\n",
        "  # initial_amount: Total amount in units to be invested initially.\n",
        "  # total_horizon: Total investment horizon.\n",
        "  # trickle_invest: \n",
        "  investment_during_rampup = (initial_amount/initial_rampup_duration)+trickle_invest\n",
        "  amount_after_initial_rampup=future_value(0,investment_during_rampup,initial_rampup_duration,start_month, investment_type)\n",
        "  final_amount=future_value(amount_after_initial_rampup, trickle_invest, total_duration-initial_rampup_duration, start_month+initial_rampup_duration, investment_type)\n",
        "  return final_amount"
      ],
      "execution_count": 0,
      "outputs": []
    },
    {
      "cell_type": "markdown",
      "metadata": {
        "id": "8MBqDLwaJLiy",
        "colab_type": "text"
      },
      "source": [
        "## One shot investment strategies\n",
        "\n",
        "The strategies below mimic the one time investments. e.g. If you have a pot of money that you need to invest into the market for \"num_years\"."
      ]
    },
    {
      "cell_type": "code",
      "metadata": {
        "id": "nq_nJo5E7j0K",
        "colab_type": "code",
        "outputId": "893e2b2e-2578-4306-c1bb-82323fb9817c",
        "colab": {
          "base_uri": "https://localhost:8080/",
          "height": 298
        }
      },
      "source": [
        "num_years = 25 #@param {type:\"slider\", min:1, max:60, step:1.0}\n",
        "start_points=[random.randint(0,(92-num_years)*12) for i in range(NUM_SAMPLES)]\n",
        "yearly_returns = [calculate_returns(start_points[i],num_years) for i in range(len(start_points))]\n",
        "ref_returns=np.median(yearly_returns)\n",
        "pretty_plot_fn(yearly_returns, ref_returns, \"S&P 500 Returns for %d years (%1.3f).\"%(num_years,ref_returns))\n",
        "print(\"%1.4f\"%ref_returns)"
      ],
      "execution_count": 16,
      "outputs": [
        {
          "output_type": "display_data",
          "data": {
            "image/png": "[encoded data removed]",
            "text/plain": [
              "<Figure size 432x288 with 1 Axes>"
            ]
          },
          "metadata": {
            "tags": [],
            "needs_background": "light"
          }
        },
        {
          "output_type": "stream",
          "text": [
            "1.0717583922849647\n"
          ],
          "name": "stdout"
        }
      ]
    },
    {
      "cell_type": "code",
      "metadata": {
        "id": "P6ySRVnOKhll",
        "colab_type": "code",
        "outputId": "2759cf30-11ea-494b-9feb-9cac0d24e48a",
        "colab": {
          "base_uri": "https://localhost:8080/",
          "height": 298
        }
      },
      "source": [
        "num_years = 16 #@param {type:\"slider\", min:1, max:60, step:1.0}\n",
        "flexible_years = 3 #@param {type:\"slider\", min:0, max:15, step:1.0}\n",
        "# min_acceptable_return is the avg. return that you would be comfortable \n",
        "# retiring with, a value of 1.03 means that your investment kept pace with \n",
        "# inflation (avg inflation assumed to be 1.03), 1.1 would mean that you would \n",
        "# like an average return of 10% per year (values above 1.07 may be unrealistic).\n",
        "min_acceptable_return = 1.065 #@param {type:\"slider\", min:1.03, max:1.1, step:0.05}\n",
        "start_points=[random.randint(0,(92-(num_years+flexible_years))*12) for i in range(NUM_SAMPLES)]\n",
        "yearly_returns = [flexible_end_date(start_points[i],num_years,flexible_years, min_acceptable_return) for i in range(len(start_points))]\n",
        "ref_returns=np.median(yearly_returns)\n",
        "pretty_plot_fn(yearly_returns, ref_returns, \"S&P 500 Returns for %d years (%1.3f).\"%(num_years,ref_returns))\n",
        "print(\"%1.4f\"%ref_returns)"
      ],
      "execution_count": 18,
      "outputs": [
        {
          "output_type": "display_data",
          "data": {
            "image/png": "[encoded data removed]",
            "text/plain": [
              "<Figure size 432x288 with 1 Axes>"
            ]
          },
          "metadata": {
            "tags": [],
            "needs_background": "light"
          }
        },
        {
          "output_type": "stream",
          "text": [
            "1.0690\n"
          ],
          "name": "stdout"
        }
      ]
    },
    {
      "cell_type": "code",
      "metadata": {
        "id": "dSZibyXcRI_V",
        "colab_type": "code",
        "outputId": "3e3d858e-387d-4369-88b4-01c762144a08",
        "colab": {
          "base_uri": "https://localhost:8080/",
          "height": 298
        }
      },
      "source": [
        "num_years = 15 #@param {type:\"slider\", min:1, max:60, step:1.0}\n",
        "start_points=[random.randint(0,(92-num_years)*12) for i in range(NUM_SAMPLES)]\n",
        "yearly_returns = [capped_gains_strategy(start_points[i],num_years) for i in range(len(start_points))]\n",
        "ref_returns=np.median(yearly_returns)\n",
        "pretty_plot_fn(yearly_returns, ref_returns, \"CappedReturns for %d years (%1.3f).\"%(num_years,ref_returns))\n",
        "print(\"%1.4f\"%ref_returns)"
      ],
      "execution_count": 19,
      "outputs": [
        {
          "output_type": "display_data",
          "data": {
            "image/png": "[encoded data removed]",
            "text/plain": [
              "<Figure size 432x288 with 1 Axes>"
            ]
          },
          "metadata": {
            "tags": [],
            "needs_background": "light"
          }
        },
        {
          "output_type": "stream",
          "text": [
            "1.0570\n"
          ],
          "name": "stdout"
        }
      ]
    },
    {
      "cell_type": "markdown",
      "metadata": {
        "id": "W7E8uHxkiGVV",
        "colab_type": "text"
      },
      "source": [
        "## Systematic monthly investments\n",
        "\n",
        "These simulations simulate a typical method of saving. One would start with \n",
        "an initial investment amount (\"intial_amount\"), and would then invest some more\n",
        "amount on a monthly basis (\"monthly_amount\").\n",
        "\n",
        "These simulations also account for inflations during the months question, and \n",
        "thus try to paint the most accurate picture available. The final value is presented in current year dollar amounts to make it easier to visualize.\n"
      ]
    },
    {
      "cell_type": "code",
      "metadata": {
        "id": "YLTLi6BhQ4I0",
        "colab_type": "code",
        "colab": {}
      },
      "source": [
        "# Number of years one has before retirement.\n",
        "num_years = 20 #@param {type:\"slider\", min:1, max:60, step:1.0}\n",
        "# The amount of money that one has at present that you would like to invest.\n",
        "initial_amount=100 #@param {type:\"slider\", min:10, max:200, step:1.0}\n",
        "# If the amount of money is large it would be advisable to split the intial \n",
        "# amount of money over \"initial_rampup_months\" number of months. \n",
        "initial_rampup_months=6 #@param {type:\"slider\", min:1, max:60, step:1.0}\n",
        "# Amount of money that one would like to invest every month.\n",
        "monthly_amount=4 #@param {type:\"slider\", min:1, max:100, step:1.0}"
      ],
      "execution_count": 0,
      "outputs": []
    },
    {
      "cell_type": "code",
      "metadata": {
        "id": "qWWZMq8MlQiF",
        "colab_type": "code",
        "outputId": "589a1c7a-d81e-443a-8529-902e870fe433",
        "colab": {
          "base_uri": "https://localhost:8080/",
          "height": 298
        },
        "cellView": "both"
      },
      "source": [
        "# Invest in S&P 500\n",
        "investment_type = \"snp500\"  #@param ['snp500', 'savings_account', 'bonds', 'capped_snp500']\n",
        "start_points=[random.randint(1,(92-num_years)*12) for i in range(NUM_SAMPLES)]\n",
        "final_networths = [weighted_return(initial_rampup_months, initial_amount, (num_years*12), monthly_amount, start_points[i],investment_type) for i in range(len(start_points))]\n",
        "ref_nw=np.median(final_networths)\n",
        "pretty_plot_fn(final_networths, ref_nw, \"%s Net worths after %d years (%1.3f).\"%(investment_type, num_years,ref_nw))\n",
        "print(\"Median final Networth = $%4.4f\"%ref_nw)"
      ],
      "execution_count": 25,
      "outputs": [
        {
          "output_type": "display_data",
          "data": {
            "image/png": "[encoded data removed]",
            "text/plain": [
              "<Figure size 432x288 with 1 Axes>"
            ]
          },
          "metadata": {
            "tags": [],
            "needs_background": "light"
          }
        },
        {
          "output_type": "stream",
          "text": [
            "Median final Networth = $1648.9223\n"
          ],
          "name": "stdout"
        }
      ]
    },
    {
      "cell_type": "code",
      "metadata": {
        "id": "8As0mlvJU48B",
        "colab_type": "code",
        "outputId": "2dce88b8-cac2-480c-9bca-cef172dfad5a",
        "colab": {
          "base_uri": "https://localhost:8080/",
          "height": 311
        }
      },
      "source": [
        "investment_type = \"bonds\"  #@param ['snp500', 'savings_account', 'bonds', 'capped_snp500']\n",
        "start_points=[random.randint(1,(92-num_years)*12) for i in range(NUM_SAMPLES)]\n",
        "final_networths = [weighted_return(initial_rampup_months, initial_amount, (num_years*12), monthly_amount, start_points[i],investment_type) for i in range(len(start_points))]\n",
        "ref_nw=np.median(final_networths)\n",
        "pretty_plot_fn(final_networths, ref_nw, \"%s Net worths after %d years (%1.3f).\"%(investment_type, num_years,ref_nw))\n",
        "print(\"Median final Networth = $%4.4f\"%ref_nw)"
      ],
      "execution_count": 26,
      "outputs": [
        {
          "output_type": "display_data",
          "data": {
            "image/png": "[encoded data removed]",
            "text/plain": [
              "<Figure size 432x288 with 1 Axes>"
            ]
          },
          "metadata": {
            "tags": [],
            "needs_background": "light"
          }
        },
        {
          "output_type": "stream",
          "text": [
            "Median final Networth = $1060.0000\n"
          ],
          "name": "stdout"
        }
      ]
    },
    {
      "cell_type": "code",
      "metadata": {
        "id": "vsoXt9S-XsLz",
        "colab_type": "code",
        "colab": {
          "base_uri": "https://localhost:8080/",
          "height": 298
        },
        "outputId": "081e37cc-b325-40cc-d265-d95fcfd837da"
      },
      "source": [
        "investment_type = \"savings_account\"  #@param ['snp500', 'savings_account', 'bonds', 'capped_snp500']\n",
        "start_points=[random.randint(1,(92-num_years)*12) for i in range(NUM_SAMPLES)]\n",
        "final_networths = [weighted_return(initial_rampup_months, initial_amount, (num_years*12), monthly_amount, start_points[i],investment_type) for i in range(len(start_points))]\n",
        "ref_nw=np.median(final_networths)\n",
        "pretty_plot_fn(final_networths, ref_nw, \"%s Net worths after %d years (%1.3f).\"%(investment_type, num_years,ref_nw))\n",
        "print(\"Median final Networth = $%4.4f\"%ref_nw)"
      ],
      "execution_count": 27,
      "outputs": [
        {
          "output_type": "display_data",
          "data": {
            "image/png": "[encoded data removed]",
            "text/plain": [
              "<Figure size 432x288 with 1 Axes>"
            ]
          },
          "metadata": {
            "tags": [],
            "needs_background": "light"
          }
        },
        {
          "output_type": "stream",
          "text": [
            "Median final Networth = $758.6522\n"
          ],
          "name": "stdout"
        }
      ]
    },
    {
      "cell_type": "markdown",
      "metadata": {
        "id": "Rb-QEbcOX5Kf",
        "colab_type": "text"
      },
      "source": [
        "## COVID-19 ish simulations\n",
        "\n",
        "Given the current financial situation, the current markets are a-typical. Thus the simlations below show returns around past recessions."
      ]
    },
    {
      "cell_type": "code",
      "metadata": {
        "id": "vF4JygR0RosT",
        "colab_type": "code",
        "outputId": "09e2d6e5-4289-4177-ec93-53f6c8fa1315",
        "colab": {
          "base_uri": "https://localhost:8080/",
          "height": 34
        }
      },
      "source": [
        "#  Bear Markets finder (more than 20% drop from the previous high)\n",
        "#  https://www.investopedia.com/terms/b/bearmarket.asp\n",
        "#  Top 11 Bear market dates = http://www.nbcnews.com/id/37740147/ns/business-stocks_and_economy/t/historic-bear-markets/#.XoCWDzdKh24\n",
        "\n",
        "bear_market_dates=['1929-09-01', '1946-05-01', '1961-12-01', '1968-11-01', '1973-01-01', '1980-11-01', '1987-08-01', '2000-03-01', '2007-10-01']\n",
        "bear_market_months=[fin_index.get_loc(bear_date) for bear_date in bear_market_dates]\n",
        "print(bear_market_months)"
      ],
      "execution_count": 29,
      "outputs": [
        {
          "output_type": "stream",
          "text": [
            "[20, 220, 407, 490, 540, 634, 715, 866, 957]\n"
          ],
          "name": "stdout"
        }
      ]
    },
    {
      "cell_type": "code",
      "metadata": {
        "id": "ZuDgKPRc438G",
        "colab_type": "code",
        "outputId": "9c144bef-ce29-49ad-9af1-baa91c030f22",
        "colab": {
          "base_uri": "https://localhost:8080/",
          "height": 221
        }
      },
      "source": [
        "num_years = 20 #@param {type:\"slider\", min:1, max:60, step:1.0}\n",
        "initial_rampup_months=6 #@param {type:\"slider\", min:1, max:60, step:1.0}\n",
        "initial_amount=100 #@param {type:\"slider\", min:10, max:200, step:1.0}\n",
        "monthly_invest=4 #@param {type:\"slider\", min:1, max:100, step:1.0}\n",
        "month_offset=-1\n",
        "start_points=[month+month_offset for month in bear_market_months[:8]]\n",
        "# print(start_points)\n",
        "\n",
        "#  investment_type: 0=s&p500, 1=capped_s&p500, 2=bank, 3=bonds(tbd)\n",
        "for toi in ['bonds', 'snp500', 'savings_account', 'capped_snp500']:\n",
        "  tinvest = monthly_invest\n",
        "  if toi == 1:\n",
        "    tinvest-=1\n",
        "  final_networths = [weighted_return(initial_rampup_months, initial_amount, (num_years*12), tinvest, start_points[i], toi) for i in range(len(start_points))]\n",
        "  # final_networths = np.sort(final_networths)\n",
        "  avg_nw=np.average(final_networths)\n",
        "  med_nw=np.median(final_networths)\n",
        "  print('Type of investment : %s \\t Median Networths : %f'%(toi, med_nw))\n",
        "  print(final_networths)\n",
        "  print()\n"
      ],
      "execution_count": 34,
      "outputs": [
        {
          "output_type": "stream",
          "text": [
            "Type of investment : bonds \t Median Networths : 1060.000000\n",
            "[1060.0, 1060.0, 1060.0, 1060.0, 1060.0, 1060.0, 1060.0, 1060.0]\n",
            "\n",
            "Type of investment : snp500 \t Median Networths : 1801.054272\n",
            "[816.5663844902134, 2505.1719497440636, 667.5065392020023, 1260.9234851984277, 1670.8253135172877, 3687.5137888154172, 2003.5642632748668, 1931.2832309902376]\n",
            "\n",
            "Type of investment : savings_account \t Median Networths : 730.257284\n",
            "[696.1735462599163, 869.8343344777593, 506.7790551959012, 599.3995860136782, 635.9306876121261, 764.341021261995, 792.0727576830466, 862.5957613877551]\n",
            "\n",
            "Type of investment : capped_snp500 \t Median Networths : 1873.484482\n",
            "[1786.0115717087594, 1931.146211157738, 1685.5720432858795, 1757.0481212765123, 1815.8227519742852, 2002.1863753151677, 1949.9080441941733, 1960.2129454778546]\n",
            "\n"
          ],
          "name": "stdout"
        }
      ]
    },
    {
      "cell_type": "code",
      "metadata": {
        "id": "GIxGjhrLJC6Z",
        "colab_type": "code",
        "outputId": "59554d75-3589-47c1-bd9e-07ae5a16cd7b",
        "colab": {
          "base_uri": "https://localhost:8080/",
          "height": 419
        }
      },
      "source": [
        "findata.loc[-5:]"
      ],
      "execution_count": 8,
      "outputs": [
        {
          "output_type": "execute_result",
          "data": {
            "text/html": [
              "<div>\n",
              "<style scoped>\n",
              "    .dataframe tbody tr th:only-of-type {\n",
              "        vertical-align: middle;\n",
              "    }\n",
              "\n",
              "    .dataframe tbody tr th {\n",
              "        vertical-align: top;\n",
              "    }\n",
              "\n",
              "    .dataframe thead th {\n",
              "        text-align: right;\n",
              "    }\n",
              "</style>\n",
              "<table border=\"1\" class=\"dataframe\">\n",
              "  <thead>\n",
              "    <tr style=\"text-align: right;\">\n",
              "      <th></th>\n",
              "      <th>Date</th>\n",
              "      <th>Close</th>\n",
              "      <th>Adj Close</th>\n",
              "      <th>Inflation</th>\n",
              "      <th>Scale</th>\n",
              "      <th>Scale_InfAdj</th>\n",
              "    </tr>\n",
              "  </thead>\n",
              "  <tbody>\n",
              "    <tr>\n",
              "      <th>0</th>\n",
              "      <td>1928-01-01</td>\n",
              "      <td>17.570000</td>\n",
              "      <td>17.570000</td>\n",
              "      <td>-1.14</td>\n",
              "      <td>NaN</td>\n",
              "      <td>NaN</td>\n",
              "    </tr>\n",
              "    <tr>\n",
              "      <th>1</th>\n",
              "      <td>1928-02-01</td>\n",
              "      <td>17.260000</td>\n",
              "      <td>17.260000</td>\n",
              "      <td>-1.72</td>\n",
              "      <td>0.982356</td>\n",
              "      <td>0.983790</td>\n",
              "    </tr>\n",
              "    <tr>\n",
              "      <th>2</th>\n",
              "      <td>1928-03-01</td>\n",
              "      <td>19.280001</td>\n",
              "      <td>19.280001</td>\n",
              "      <td>-1.16</td>\n",
              "      <td>1.117034</td>\n",
              "      <td>1.118000</td>\n",
              "    </tr>\n",
              "    <tr>\n",
              "      <th>3</th>\n",
              "      <td>1928-04-01</td>\n",
              "      <td>19.750000</td>\n",
              "      <td>19.750000</td>\n",
              "      <td>-1.16</td>\n",
              "      <td>1.024378</td>\n",
              "      <td>1.025344</td>\n",
              "    </tr>\n",
              "    <tr>\n",
              "      <th>4</th>\n",
              "      <td>1928-05-01</td>\n",
              "      <td>20.000000</td>\n",
              "      <td>20.000000</td>\n",
              "      <td>-1.15</td>\n",
              "      <td>1.012658</td>\n",
              "      <td>1.013617</td>\n",
              "    </tr>\n",
              "    <tr>\n",
              "      <th>...</th>\n",
              "      <td>...</td>\n",
              "      <td>...</td>\n",
              "      <td>...</td>\n",
              "      <td>...</td>\n",
              "      <td>...</td>\n",
              "      <td>...</td>\n",
              "    </tr>\n",
              "    <tr>\n",
              "      <th>1101</th>\n",
              "      <td>2019-10-01</td>\n",
              "      <td>3037.560059</td>\n",
              "      <td>3037.560059</td>\n",
              "      <td>1.76</td>\n",
              "      <td>1.020432</td>\n",
              "      <td>1.018965</td>\n",
              "    </tr>\n",
              "    <tr>\n",
              "      <th>1102</th>\n",
              "      <td>2019-11-01</td>\n",
              "      <td>3140.979980</td>\n",
              "      <td>3140.979980</td>\n",
              "      <td>2.05</td>\n",
              "      <td>1.034047</td>\n",
              "      <td>1.032339</td>\n",
              "    </tr>\n",
              "    <tr>\n",
              "      <th>1103</th>\n",
              "      <td>2019-12-01</td>\n",
              "      <td>3230.780029</td>\n",
              "      <td>3230.780029</td>\n",
              "      <td>2.29</td>\n",
              "      <td>1.028590</td>\n",
              "      <td>1.026681</td>\n",
              "    </tr>\n",
              "    <tr>\n",
              "      <th>1104</th>\n",
              "      <td>2020-01-01</td>\n",
              "      <td>3225.520020</td>\n",
              "      <td>3225.520020</td>\n",
              "      <td>2.49</td>\n",
              "      <td>0.998372</td>\n",
              "      <td>0.996297</td>\n",
              "    </tr>\n",
              "    <tr>\n",
              "      <th>1105</th>\n",
              "      <td>2020-02-01</td>\n",
              "      <td>2954.219971</td>\n",
              "      <td>2954.219971</td>\n",
              "      <td>2.33</td>\n",
              "      <td>0.915890</td>\n",
              "      <td>0.913948</td>\n",
              "    </tr>\n",
              "  </tbody>\n",
              "</table>\n",
              "<p>1106 rows × 6 columns</p>\n",
              "</div>"
            ],
            "text/plain": [
              "            Date        Close    Adj Close  Inflation     Scale  Scale_InfAdj\n",
              "0     1928-01-01    17.570000    17.570000      -1.14       NaN           NaN\n",
              "1     1928-02-01    17.260000    17.260000      -1.72  0.982356      0.983790\n",
              "2     1928-03-01    19.280001    19.280001      -1.16  1.117034      1.118000\n",
              "3     1928-04-01    19.750000    19.750000      -1.16  1.024378      1.025344\n",
              "4     1928-05-01    20.000000    20.000000      -1.15  1.012658      1.013617\n",
              "...          ...          ...          ...        ...       ...           ...\n",
              "1101  2019-10-01  3037.560059  3037.560059       1.76  1.020432      1.018965\n",
              "1102  2019-11-01  3140.979980  3140.979980       2.05  1.034047      1.032339\n",
              "1103  2019-12-01  3230.780029  3230.780029       2.29  1.028590      1.026681\n",
              "1104  2020-01-01  3225.520020  3225.520020       2.49  0.998372      0.996297\n",
              "1105  2020-02-01  2954.219971  2954.219971       2.33  0.915890      0.913948\n",
              "\n",
              "[1106 rows x 6 columns]"
            ]
          },
          "metadata": {
            "tags": []
          },
          "execution_count": 8
        }
      ]
    }
  ]
}