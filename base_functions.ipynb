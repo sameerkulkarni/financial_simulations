{
  "nbformat": 4,
  "nbformat_minor": 0,
  "metadata": {
    "colab": {
      "name": "Untitled0.ipynb",
      "provenance": [],
      "authorship_tag": "ABX9TyOpXNQcHwJ3D278pPQo15KB",
      "include_colab_link": true
    },
    "kernelspec": {
      "name": "python3",
      "display_name": "Python 3"
    }
  },
  "cells": [
    {
      "cell_type": "markdown",
      "metadata": {
        "id": "view-in-github",
        "colab_type": "text"
      },
      "source": [
        "<a href=\"https://colab.research.google.com/github/sameerkulkarni/financial_simulations/blob/master/base_functions.ipynb\" target=\"_parent\"><img src=\"https://colab.research.google.com/assets/colab-badge.svg\" alt=\"Open In Colab\"/></a>"
      ]
    },
    {
      "cell_type": "markdown",
      "metadata": {
        "id": "zHrGpPV43tRG",
        "colab_type": "text"
      },
      "source": [
        "**Financial Simulations**\n",
        "\n",
        "Measure different investment strategies"
      ]
    },
    {
      "cell_type": "code",
      "metadata": {
        "id": "zBCuNg7v4vQX",
        "colab_type": "code",
        "colab": {}
      },
      "source": [
        "import pandas as pd\n",
        "import matplotlib.pyplot as plt\n",
        "import numpy as np\n",
        "import random\n",
        "findata = pd.read_csv(\"https://raw.githubusercontent.com/sameerkulkarni/financial_simulations/master/returns.csv\", sep=\",\")"
      ],
      "execution_count": 0,
      "outputs": []
    },
    {
      "cell_type": "code",
      "metadata": {
        "id": "KWFSbMU_5Yi3",
        "colab_type": "code",
        "colab": {
          "base_uri": "https://localhost:8080/",
          "height": 153
        },
        "outputId": "ed0d29b6-263e-4c2e-8729-12eb62c94f32"
      },
      "source": [
        "print(findata.loc[2])"
      ],
      "execution_count": 8,
      "outputs": [
        {
          "output_type": "stream",
          "text": [
            "Date         1928-03-01\n",
            "Open               17.3\n",
            "High              19.28\n",
            "Low                17.3\n",
            "Close             19.28\n",
            "Adj Close         19.28\n",
            "Inflation         -1.16\n",
            "Name: 2, dtype: object\n"
          ],
          "name": "stdout"
        }
      ]
    },
    {
      "cell_type": "code",
      "metadata": {
        "id": "MxGsJfJR7fb_",
        "colab_type": "code",
        "colab": {}
      },
      "source": [
        "# Basic Strategy: Invest from the beginning to the end.\n",
        "def calculate_returns(startpoint, duration):\n",
        "  begin = findata.loc[startpoint]['Adj Close']\n",
        "  end = findata.loc[startpoint+(duration*12)]['Adj Close']\n",
        "  total_returns = 1+ ((end-begin)/begin)\n",
        "  avg_returns = (total_returns**(1.0/duration))\n",
        "  return avg_returns"
      ],
      "execution_count": 0,
      "outputs": []
    },
    {
      "cell_type": "code",
      "metadata": {
        "id": "nq_nJo5E7j0K",
        "colab_type": "code",
        "colab": {
          "base_uri": "https://localhost:8080/",
          "height": 298
        },
        "outputId": "3b42df8d-c634-4334-c64b-c80681a0f0e9"
      },
      "source": [
        "num_years = 15 #@param {type:\"slider\", min:1, max:60, step:1.0}\n",
        "num_samples=20000\n",
        "start_points=[random.randint(0,(92-num_years)*12) for i in range(num_samples)]\n",
        "yearly_returns = [calculate_returns(start_points[i],num_years) for i in range(len(start_points))]\n",
        "avg2_returns=np.average(yearly_returns)\n",
        "print(avg2_returns)\n",
        "plt.hist(yearly_returns, bins=100)\n",
        "plt.title(\"S&P 500 Returns for %d years (%1.3f).\"%(num_years,avg2_returns))\n",
        "plt.axvline(avg2_returns,color='r')\n",
        "plt.show()"
      ],
      "execution_count": 54,
      "outputs": [
        {
          "output_type": "stream",
          "text": [
            "1.0663716661984473\n"
          ],
          "name": "stdout"
        },
        {
          "output_type": "display_data",
          "data": {
            "image/png": "[encoded data removed]",
            "text/plain": [
              "<Figure size 432x288 with 1 Axes>"
            ]
          },
          "metadata": {
            "tags": []
          }
        }
      ]
    },
    {
      "cell_type": "code",
      "metadata": {
        "id": "UhaACKvWChO1",
        "colab_type": "code",
        "colab": {}
      },
      "source": [
        "# Secondary strategy: If the intended retirement would cause an average return\n",
        "#   of less than expected_returns, then wait a max of extended_duration years\n",
        "#   and retire as soon as it reaches expected_returns. If waiting does not reach\n",
        "#   expected returns, retire at the end of the extended_duration.\n",
        "def flexible_end_date(startpoint, duration, extended_duration=2, expected_returns=1.065):\n",
        "  begin = findata.loc[startpoint]['Adj Close']\n",
        "  intended_end_month= startpoint+(duration*12)\n",
        "  end = findata.loc[intended_end_month]['Adj Close']\n",
        "  total_returns = 1+ ((end-begin)/begin)\n",
        "  avg_returns = (total_returns**(1.0/duration))\n",
        "  # print(\"%2d, %2d, %3.3f, %3.3f, %1.3f, %1.3f\" %(startpoint, intended_end_month, begin, end, total_returns, avg_returns))\n",
        "  if (avg_returns > expected_returns):\n",
        "    return avg_returns\n",
        "  for i in range(intended_end_month,intended_end_month+(extended_duration*12)):\n",
        "    end = findata.loc[i]['Adj Close']\n",
        "    total_returns= 1+ ((end-begin)/begin)\n",
        "    avg_returns = (total_returns**(1.0/((i-startpoint)/12)))\n",
        "    # print(\"%2d, %2d, %3.3f, %3.3f, %1.3f, %1.3f\" %(startpoint, i, begin, end, total_returns, avg_returns))\n",
        "    if avg_returns >= expected_returns:\n",
        "      return avg_returns\n",
        "  return avg_returns"
      ],
      "execution_count": 0,
      "outputs": []
    },
    {
      "cell_type": "code",
      "metadata": {
        "id": "P6ySRVnOKhll",
        "colab_type": "code",
        "colab": {
          "base_uri": "https://localhost:8080/",
          "height": 298
        },
        "outputId": "558a91ef-fa5a-433f-8e7a-9aa87e96fda6"
      },
      "source": [
        "num_years = 13 #@param {type:\"slider\", min:1, max:60, step:1.0}\n",
        "flexible_years = 3 #@param {type:\"slider\", min:0, max:15, step:1.0}\n",
        "num_samples=20000\n",
        "start_points=[random.randint(0,(92-(num_years+flexible_years))*12) for i in range(num_samples)]\n",
        "yearly_returns = [flexible_end_date(start_points[i],num_years,flexible_years) for i in range(len(start_points))]\n",
        "avg2_returns=np.average(yearly_returns)\n",
        "print(avg2_returns)\n",
        "plt.hist(yearly_returns, bins=100)\n",
        "plt.title(\"S&P 500 Returns for %d years (%1.3f).\"%(num_years,avg2_returns))\n",
        "plt.axvline(avg2_returns,color='r')\n",
        "plt.show()"
      ],
      "execution_count": 55,
      "outputs": [
        {
          "output_type": "stream",
          "text": [
            "1.0725421867797778\n"
          ],
          "name": "stdout"
        },
        {
          "output_type": "display_data",
          "data": {
            "image/png": "[encoded data removed]",
            "text/plain": [
              "<Figure size 432x288 with 1 Axes>"
            ]
          },
          "metadata": {
            "tags": []
          }
        }
      ]
    },
    {
      "cell_type": "code",
      "metadata": {
        "id": "wZ3I-Hd0PfrY",
        "colab_type": "code",
        "colab": {}
      },
      "source": [
        "# Capped Gains Strategy: Here your returns are capped between [0,9] on a yearly \n",
        "# basis.\n",
        "def capped_gains_strategy(startpoint, duration):\n",
        "  returns=[]\n",
        "  for i in range(0,duration):\n",
        "    start_month=startpoint +(i*12)\n",
        "    end_month=startpoint +((i+1)*12)\n",
        "    begin = findata.loc[start_month]['Adj Close']\n",
        "    end = findata.loc[end_month]['Adj Close']\n",
        "    yearly_return = 1+ ((end-begin)/begin)\n",
        "    if yearly_return < 1:\n",
        "      yearly_return = 1\n",
        "    if yearly_return > 1.095:\n",
        "      yearly_return = 1.095\n",
        "    returns.append(yearly_return)\n",
        "  # print(returns)\n",
        "  avg_returns = np.average(returns)\n",
        "  return avg_returns"
      ],
      "execution_count": 0,
      "outputs": []
    },
    {
      "cell_type": "code",
      "metadata": {
        "id": "dSZibyXcRI_V",
        "colab_type": "code",
        "colab": {
          "base_uri": "https://localhost:8080/",
          "height": 298
        },
        "outputId": "d89e33d8-f3e1-4fe4-f11e-d5b9b1b0952b"
      },
      "source": [
        "num_years = 15 #@param {type:\"slider\", min:1, max:60, step:1.0}\n",
        "num_samples=20000\n",
        "start_points=[random.randint(0,(92-num_years)*12) for i in range(num_samples)]\n",
        "yearly_returns = [capped_gains_strategy(start_points[i],num_years) for i in range(len(start_points))]\n",
        "avg2_returns=np.average(yearly_returns)\n",
        "print(avg2_returns)\n",
        "plt.hist(yearly_returns, bins=100)\n",
        "plt.title(\"S&P 500 Returns for %d years (%1.3f).\"%(num_years,avg2_returns))\n",
        "plt.axvline(avg2_returns,color='r')\n",
        "plt.show()"
      ],
      "execution_count": 70,
      "outputs": [
        {
          "output_type": "stream",
          "text": [
            "1.0569217215049753\n"
          ],
          "name": "stdout"
        },
        {
          "output_type": "display_data",
          "data": {
            "image/png": "[encoded data removed]",
            "text/plain": [
              "<Figure size 432x288 with 1 Axes>"
            ]
          },
          "metadata": {
            "tags": []
          }
        }
      ]
    },
    {
      "cell_type": "code",
      "metadata": {
        "id": "8ZV-7SSmSKq-",
        "colab_type": "code",
        "colab": {}
      },
      "source": [
        "findata['Scale'] = findata['Adj Close'].pct_change() +1"
      ],
      "execution_count": 0,
      "outputs": []
    },
    {
      "cell_type": "code",
      "metadata": {
        "id": "4Nr2MNOmbbBF",
        "colab_type": "code",
        "colab": {}
      },
      "source": [
        "findata['Scale_InfAdj'] = findata['Scale'] - (findata['Inflation']/1200)"
      ],
      "execution_count": 0,
      "outputs": []
    },
    {
      "cell_type": "code",
      "metadata": {
        "id": "DdyWJJ3fMBze",
        "colab_type": "code",
        "colab": {
          "base_uri": "https://localhost:8080/",
          "height": 187
        },
        "outputId": "1b48044e-fdc2-4eed-f081-e961a338027c"
      },
      "source": [
        "findata.loc[2]"
      ],
      "execution_count": 11,
      "outputs": [
        {
          "output_type": "execute_result",
          "data": {
            "text/plain": [
              "Date            1928-03-01\n",
              "Open                  17.3\n",
              "High                 19.28\n",
              "Low                   17.3\n",
              "Close                19.28\n",
              "Adj Close            19.28\n",
              "Inflation            -1.16\n",
              "Scale              1.11703\n",
              "Scale_InfAdj         1.118\n",
              "Name: 2, dtype: object"
            ]
          },
          "metadata": {
            "tags": []
          },
          "execution_count": 11
        }
      ]
    },
    {
      "cell_type": "code",
      "metadata": {
        "id": "YBSLTSrCZ3pg",
        "colab_type": "code",
        "colab": {}
      },
      "source": [
        "def future_value(initial_amount, investment_amount, num_months, start_month):\n",
        "  #  initial_amount: Initial amount to start the investment with.\n",
        "  #  investment_amount: Amount to be invested every month.\n",
        "  #  num_months: Number of months to invest.\n",
        "  #  start_month: When do you start investing the money.\n",
        "  current_amount=initial_amount\n",
        "  for i in range(start_month, (start_month+num_months)):\n",
        "    current_amount+=investment_amount\n",
        "    current_amount*=findata.loc[i]['Scale_InfAdj']\n",
        "  return current_amount\n",
        "\n",
        "def weighted_return(initial_rampup_duration, initial_amount, total_duration, trickle_invest, start_month):\n",
        "  # initial_rampup_horizon: Number of months to split the initital investment time.\n",
        "  # initial_amount: Total amount in units to be invested initially.\n",
        "  # total_horizon: Total investment horizon.\n",
        "  # trickle_invest: \n",
        "  investment_during_rampup = (initial_amount/initial_rampup_duration)+trickle_invest\n",
        "  amount_after_initial_rampup=future_value(0,investment_during_rampup,initial_rampup_duration,start_month)\n",
        "  final_amount=future_value(amount_after_initial_rampup, trickle_invest, total_duration-initial_rampup_duration, start_month+initial_rampup_duration)\n",
        "  return final_amount"
      ],
      "execution_count": 0,
      "outputs": []
    },
    {
      "cell_type": "markdown",
      "metadata": {
        "id": "W7E8uHxkiGVV",
        "colab_type": "text"
      },
      "source": [
        "**Simulation Start Investing**\n",
        "\n",
        "Here the person would have X dollars to invest at present, and would add some small amount every month for the given number of months.\n",
        "\n"
      ]
    },
    {
      "cell_type": "code",
      "metadata": {
        "id": "8As0mlvJU48B",
        "colab_type": "code",
        "colab": {
          "base_uri": "https://localhost:8080/",
          "height": 298
        },
        "outputId": "34da4175-e58a-450d-e805-91b28decd58a"
      },
      "source": [
        "num_years = 15 #@param {type:\"slider\", min:1, max:60, step:1.0}\n",
        "num_samples=10000\n",
        "initial_rampup_months=6 #@param {type:\"slider\", min:1, max:60, step:1.0}\n",
        "initial_amount=100 #@param {type:\"slider\", min:10, max:200, step:1.0}\n",
        "trickle_invest=4 #@param {type:\"slider\", min:1, max:100, step:1.0}\n",
        "start_points=[random.randint(1,(92-num_years)*12) for i in range(num_samples)]\n",
        "final_networths = [weighted_return(initial_rampup_months, initial_amount, (num_years*12), trickle_invest, start_points[i]) for i in range(len(start_points))]\n",
        "avg_nw=np.average(final_networths)\n",
        "print(avg_nw)\n",
        "plt.hist(final_networths, bins=100)\n",
        "plt.title(\"Networths for %d years (%1.3f).\"%(num_years,avg_nw))\n",
        "plt.axvline(avg_nw,color='r')\n",
        "plt.show()"
      ],
      "execution_count": 23,
      "outputs": [
        {
          "output_type": "stream",
          "text": [
            "1178.0204474645234\n"
          ],
          "name": "stdout"
        },
        {
          "output_type": "display_data",
          "data": {
            "image/png": "[encoded data removed]",
            "text/plain": [
              "<Figure size 432x288 with 1 Axes>"
            ]
          },
          "metadata": {
            "tags": []
          }
        }
      ]
    },
    {
      "cell_type": "code",
      "metadata": {
        "id": "VAeVmE7peKli",
        "colab_type": "code",
        "colab": {
          "base_uri": "https://localhost:8080/",
          "height": 452
        },
        "outputId": "9cb9f5c1-bdb5-4b3e-fda7-6379274e245d"
      },
      "source": [
        "findata.loc[1:13]"
      ],
      "execution_count": 17,
      "outputs": [
        {
          "output_type": "execute_result",
          "data": {
            "text/html": [
              "<div>\n",
              "<style scoped>\n",
              "    .dataframe tbody tr th:only-of-type {\n",
              "        vertical-align: middle;\n",
              "    }\n",
              "\n",
              "    .dataframe tbody tr th {\n",
              "        vertical-align: top;\n",
              "    }\n",
              "\n",
              "    .dataframe thead th {\n",
              "        text-align: right;\n",
              "    }\n",
              "</style>\n",
              "<table border=\"1\" class=\"dataframe\">\n",
              "  <thead>\n",
              "    <tr style=\"text-align: right;\">\n",
              "      <th></th>\n",
              "      <th>Date</th>\n",
              "      <th>Open</th>\n",
              "      <th>High</th>\n",
              "      <th>Low</th>\n",
              "      <th>Close</th>\n",
              "      <th>Adj Close</th>\n",
              "      <th>Inflation</th>\n",
              "      <th>Scale</th>\n",
              "      <th>Scale_InfAdj</th>\n",
              "    </tr>\n",
              "  </thead>\n",
              "  <tbody>\n",
              "    <tr>\n",
              "      <th>1</th>\n",
              "      <td>1928-02-01</td>\n",
              "      <td>17.530001</td>\n",
              "      <td>17.629999</td>\n",
              "      <td>16.950001</td>\n",
              "      <td>17.260000</td>\n",
              "      <td>17.260000</td>\n",
              "      <td>-1.72</td>\n",
              "      <td>0.982356</td>\n",
              "      <td>0.983790</td>\n",
              "    </tr>\n",
              "    <tr>\n",
              "      <th>2</th>\n",
              "      <td>1928-03-01</td>\n",
              "      <td>17.299999</td>\n",
              "      <td>19.280001</td>\n",
              "      <td>17.299999</td>\n",
              "      <td>19.280001</td>\n",
              "      <td>19.280001</td>\n",
              "      <td>-1.16</td>\n",
              "      <td>1.117034</td>\n",
              "      <td>1.118000</td>\n",
              "    </tr>\n",
              "    <tr>\n",
              "      <th>3</th>\n",
              "      <td>1928-04-01</td>\n",
              "      <td>18.910000</td>\n",
              "      <td>19.750000</td>\n",
              "      <td>18.910000</td>\n",
              "      <td>19.750000</td>\n",
              "      <td>19.750000</td>\n",
              "      <td>-1.16</td>\n",
              "      <td>1.024378</td>\n",
              "      <td>1.025344</td>\n",
              "    </tr>\n",
              "    <tr>\n",
              "      <th>4</th>\n",
              "      <td>1928-05-01</td>\n",
              "      <td>19.780001</td>\n",
              "      <td>20.440001</td>\n",
              "      <td>19.360001</td>\n",
              "      <td>20.000000</td>\n",
              "      <td>20.000000</td>\n",
              "      <td>-1.15</td>\n",
              "      <td>1.012658</td>\n",
              "      <td>1.013617</td>\n",
              "    </tr>\n",
              "    <tr>\n",
              "      <th>5</th>\n",
              "      <td>1928-06-01</td>\n",
              "      <td>20.070000</td>\n",
              "      <td>20.070000</td>\n",
              "      <td>18.340000</td>\n",
              "      <td>19.139999</td>\n",
              "      <td>19.139999</td>\n",
              "      <td>-2.84</td>\n",
              "      <td>0.957000</td>\n",
              "      <td>0.959367</td>\n",
              "    </tr>\n",
              "    <tr>\n",
              "      <th>6</th>\n",
              "      <td>1928-07-01</td>\n",
              "      <td>18.980000</td>\n",
              "      <td>19.480000</td>\n",
              "      <td>18.700001</td>\n",
              "      <td>19.430000</td>\n",
              "      <td>19.430000</td>\n",
              "      <td>-1.16</td>\n",
              "      <td>1.015152</td>\n",
              "      <td>1.016118</td>\n",
              "    </tr>\n",
              "    <tr>\n",
              "      <th>7</th>\n",
              "      <td>1928-08-01</td>\n",
              "      <td>19.420000</td>\n",
              "      <td>20.870001</td>\n",
              "      <td>19.129999</td>\n",
              "      <td>20.870001</td>\n",
              "      <td>20.870001</td>\n",
              "      <td>-0.58</td>\n",
              "      <td>1.074112</td>\n",
              "      <td>1.074596</td>\n",
              "    </tr>\n",
              "    <tr>\n",
              "      <th>8</th>\n",
              "      <td>1928-09-01</td>\n",
              "      <td>20.969999</td>\n",
              "      <td>21.430000</td>\n",
              "      <td>20.920000</td>\n",
              "      <td>21.139999</td>\n",
              "      <td>21.139999</td>\n",
              "      <td>0.00</td>\n",
              "      <td>1.012937</td>\n",
              "      <td>1.012937</td>\n",
              "    </tr>\n",
              "    <tr>\n",
              "      <th>9</th>\n",
              "      <td>1928-10-01</td>\n",
              "      <td>21.360001</td>\n",
              "      <td>22.000000</td>\n",
              "      <td>21.110001</td>\n",
              "      <td>21.680000</td>\n",
              "      <td>21.680000</td>\n",
              "      <td>-1.15</td>\n",
              "      <td>1.025544</td>\n",
              "      <td>1.026502</td>\n",
              "    </tr>\n",
              "    <tr>\n",
              "      <th>10</th>\n",
              "      <td>1928-11-01</td>\n",
              "      <td>21.990000</td>\n",
              "      <td>24.280001</td>\n",
              "      <td>21.950001</td>\n",
              "      <td>24.280001</td>\n",
              "      <td>24.280001</td>\n",
              "      <td>-0.58</td>\n",
              "      <td>1.119926</td>\n",
              "      <td>1.120410</td>\n",
              "    </tr>\n",
              "    <tr>\n",
              "      <th>11</th>\n",
              "      <td>1928-12-01</td>\n",
              "      <td>23.850000</td>\n",
              "      <td>24.350000</td>\n",
              "      <td>22.309999</td>\n",
              "      <td>24.350000</td>\n",
              "      <td>24.350000</td>\n",
              "      <td>-1.16</td>\n",
              "      <td>1.002883</td>\n",
              "      <td>1.003850</td>\n",
              "    </tr>\n",
              "    <tr>\n",
              "      <th>12</th>\n",
              "      <td>1929-01-01</td>\n",
              "      <td>24.809999</td>\n",
              "      <td>25.740000</td>\n",
              "      <td>24.170000</td>\n",
              "      <td>25.740000</td>\n",
              "      <td>25.740000</td>\n",
              "      <td>-1.16</td>\n",
              "      <td>1.057084</td>\n",
              "      <td>1.058051</td>\n",
              "    </tr>\n",
              "    <tr>\n",
              "      <th>13</th>\n",
              "      <td>1929-02-01</td>\n",
              "      <td>25.840000</td>\n",
              "      <td>25.840000</td>\n",
              "      <td>24.350000</td>\n",
              "      <td>25.590000</td>\n",
              "      <td>25.590000</td>\n",
              "      <td>0.00</td>\n",
              "      <td>0.994172</td>\n",
              "      <td>0.994172</td>\n",
              "    </tr>\n",
              "  </tbody>\n",
              "</table>\n",
              "</div>"
            ],
            "text/plain": [
              "          Date       Open       High  ...  Inflation     Scale  Scale_InfAdj\n",
              "1   1928-02-01  17.530001  17.629999  ...      -1.72  0.982356      0.983790\n",
              "2   1928-03-01  17.299999  19.280001  ...      -1.16  1.117034      1.118000\n",
              "3   1928-04-01  18.910000  19.750000  ...      -1.16  1.024378      1.025344\n",
              "4   1928-05-01  19.780001  20.440001  ...      -1.15  1.012658      1.013617\n",
              "5   1928-06-01  20.070000  20.070000  ...      -2.84  0.957000      0.959367\n",
              "6   1928-07-01  18.980000  19.480000  ...      -1.16  1.015152      1.016118\n",
              "7   1928-08-01  19.420000  20.870001  ...      -0.58  1.074112      1.074596\n",
              "8   1928-09-01  20.969999  21.430000  ...       0.00  1.012937      1.012937\n",
              "9   1928-10-01  21.360001  22.000000  ...      -1.15  1.025544      1.026502\n",
              "10  1928-11-01  21.990000  24.280001  ...      -0.58  1.119926      1.120410\n",
              "11  1928-12-01  23.850000  24.350000  ...      -1.16  1.002883      1.003850\n",
              "12  1929-01-01  24.809999  25.740000  ...      -1.16  1.057084      1.058051\n",
              "13  1929-02-01  25.840000  25.840000  ...       0.00  0.994172      0.994172\n",
              "\n",
              "[13 rows x 9 columns]"
            ]
          },
          "metadata": {
            "tags": []
          },
          "execution_count": 17
        }
      ]
    },
    {
      "cell_type": "code",
      "metadata": {
        "id": "fxPdxnY7kaqH",
        "colab_type": "code",
        "colab": {}
      },
      "source": [
        "def future_value(initial_amount, investment_amount, num_months, start_month):\n",
        "  #  initial_amount: Initial amount to start the investment with.\n",
        "  #  investment_amount: Amount to be invested every month.\n",
        "  #  num_months: Number of months to invest.\n",
        "  #  start_month: When do you start investing the money.\n",
        "  current_amount=initial_amount\n",
        "  for i in range(start_month, (start_month+num_months)):\n",
        "    current_amount+=investment_amount\n",
        "    return_scale = max(1, min((1+(.09/12)), findata.loc[i]['Scale_InfAdj']))\n",
        "    current_amount*=return_scale\n",
        "  return current_amount\n",
        "\n",
        "def weighted_return(initial_rampup_duration, initial_amount, total_duration, trickle_invest, start_month):\n",
        "  # initial_rampup_horizon: Number of months to split the initital investment time.\n",
        "  # initial_amount: Total amount in units to be invested initially.\n",
        "  # total_horizon: Total investment horizon.\n",
        "  # trickle_invest: \n",
        "  investment_during_rampup = (initial_amount/initial_rampup_duration)+trickle_invest\n",
        "  amount_after_initial_rampup=future_value(0,investment_during_rampup,initial_rampup_duration,start_month)\n",
        "  final_amount=future_value(amount_after_initial_rampup, trickle_invest, total_duration-initial_rampup_duration, start_month+initial_rampup_duration)\n",
        "  return final_amount"
      ],
      "execution_count": 0,
      "outputs": []
    },
    {
      "cell_type": "code",
      "metadata": {
        "id": "qWWZMq8MlQiF",
        "colab_type": "code",
        "colab": {
          "base_uri": "https://localhost:8080/",
          "height": 298
        },
        "outputId": "a6ac2877-a682-45fd-f1f7-b013ac9868dc"
      },
      "source": [
        "num_years = 15 #@param {type:\"slider\", min:1, max:60, step:1.0}\n",
        "num_samples=10000\n",
        "initial_rampup_months=6 #@param {type:\"slider\", min:1, max:60, step:1.0}\n",
        "initial_amount=100 #@param {type:\"slider\", min:10, max:200, step:1.0}\n",
        "trickle_invest=4 #@param {type:\"slider\", min:1, max:100, step:1.0}\n",
        "start_points=[random.randint(1,(92-num_years)*12) for i in range(num_samples)]\n",
        "final_networths = [weighted_return(initial_rampup_months, initial_amount, (num_years*12), trickle_invest, start_points[i]) for i in range(len(start_points))]\n",
        "avg_nw=np.average(final_networths)\n",
        "print(avg_nw)\n",
        "plt.hist(final_networths, bins=100)\n",
        "plt.title(\"Insu Networths for %d years (%1.3f).\"%(num_years,avg_nw))\n",
        "plt.axvline(avg_nw,color='r')\n",
        "plt.show()"
      ],
      "execution_count": 27,
      "outputs": [
        {
          "output_type": "stream",
          "text": [
            "1253.9324809270963\n"
          ],
          "name": "stdout"
        },
        {
          "output_type": "display_data",
          "data": {
            "image/png": "[encoded data removed]",
            "text/plain": [
              "<Figure size 432x288 with 1 Axes>"
            ]
          },
          "metadata": {
            "tags": []
          }
        }
      ]
    }
  ]
}